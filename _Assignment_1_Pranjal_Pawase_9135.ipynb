{
  "nbformat": 4,
  "nbformat_minor": 0,
  "metadata": {
    "colab": {
      "name": ".Assignment_1_Pranjal_Pawase_9135.ipynb",
      "provenance": []
    },
    "kernelspec": {
      "name": "python3",
      "display_name": "Python 3"
    },
    "language_info": {
      "name": "python"
    }
  },
  "cells": [
    {
      "cell_type": "code",
      "execution_count": null,
      "metadata": {
        "id": "kd6Mf8EJf4Kw"
      },
      "outputs": [],
      "source": [
        "Name=\"Pranjal Jayram Pawase\"\n",
        "Roll_No=9135"
      ]
    },
    {
      "cell_type": "code",
      "source": [
        ""
      ],
      "metadata": {
        "id": "B5cv0pSL3Nyv"
      },
      "execution_count": null,
      "outputs": []
    },
    {
      "cell_type": "code",
      "source": [
        "A=[\"Pranjal\", \"Pawase\",21,\"Student\",]\n",
        "B=[\"SP College\",\"Autonomous\",\"Sadashiv Peth\",411030]\n",
        "print(A)\n",
        "print(B)"
      ],
      "metadata": {
        "id": "m-_z5UlTgEDf",
        "colab": {
          "base_uri": "https://localhost:8080/"
        },
        "outputId": "d94219eb-cb2b-4ceb-a522-645beaf627a6"
      },
      "execution_count": null,
      "outputs": [
        {
          "output_type": "stream",
          "name": "stdout",
          "text": [
            "['Pranjal', 'Pawase', 21, 'Student']\n",
            "['SP College', 'Autonomous', 'Sadashiv Peth', 411030]\n"
          ]
        }
      ]
    },
    {
      "cell_type": "code",
      "source": [
        "a=(\"Pranjal\",\"Pawase\",21,\"Student\")\n",
        "b=(\"SP College\",\"Autonomous\",\"Sadashiv Peth\",411030)\n",
        "print(a)\n",
        "print(b)\n"
      ],
      "metadata": {
        "id": "H1nPP2Chg6MN",
        "colab": {
          "base_uri": "https://localhost:8080/"
        },
        "outputId": "c97c4f4d-71de-4d19-b03c-d9658c18e539"
      },
      "execution_count": null,
      "outputs": [
        {
          "output_type": "stream",
          "name": "stdout",
          "text": [
            "('Pranjal', 'Pawase', 21, 'Student')\n",
            "('SP College', 'Autonomous', 'Sadashiv Peth', 411030)\n"
          ]
        }
      ]
    },
    {
      "cell_type": "code",
      "source": [
        "print(A[0:2])\n",
        "print(B[2:3])\n",
        "print(a[2])\n",
        "print(b[3])"
      ],
      "metadata": {
        "id": "Dbcyd9jqhJ1e",
        "colab": {
          "base_uri": "https://localhost:8080/"
        },
        "outputId": "321150cc-9e23-40df-a9b9-ac520ed97cec"
      },
      "execution_count": null,
      "outputs": [
        {
          "output_type": "stream",
          "name": "stdout",
          "text": [
            "['Pranjal', 'Pawase']\n",
            "['Sadashiv Peth']\n",
            "21\n",
            "411030\n"
          ]
        }
      ]
    },
    {
      "cell_type": "code",
      "source": [
        "print(type(A))\n",
        "print(type(B))\n",
        "print(type(a))\n",
        "print(type(b))"
      ],
      "metadata": {
        "id": "lkqmv93X3R5v",
        "colab": {
          "base_uri": "https://localhost:8080/"
        },
        "outputId": "25631df7-7b48-4a68-8989-a911b03d052a"
      },
      "execution_count": null,
      "outputs": [
        {
          "output_type": "stream",
          "name": "stdout",
          "text": [
            "<class 'list'>\n",
            "<class 'list'>\n",
            "<class 'tuple'>\n",
            "<class 'tuple'>\n"
          ]
        }
      ]
    },
    {
      "cell_type": "code",
      "source": [
        "print(A)\n",
        "A1=A.copy()\n",
        "print(A1)\n",
        "\n",
        "### Tupples cannot be copied"
      ],
      "metadata": {
        "id": "aE8AcnRJ3V5a",
        "colab": {
          "base_uri": "https://localhost:8080/"
        },
        "outputId": "d58e9bc6-8eac-4df7-9b71-a29c3b85e277"
      },
      "execution_count": null,
      "outputs": [
        {
          "output_type": "stream",
          "name": "stdout",
          "text": [
            "['Pranjal', 'Pawase', 21, 'Student']\n",
            "['Pranjal', 'Pawase', 21, 'Student']\n"
          ]
        }
      ]
    },
    {
      "cell_type": "code",
      "source": [
        "print(B)\n",
        "B.append(\"Autonomous\")\n",
        "print(B)\n",
        "\n",
        "### TUpples cannot be modified"
      ],
      "metadata": {
        "id": "GjxmT0Ir3ZCr",
        "colab": {
          "base_uri": "https://localhost:8080/"
        },
        "outputId": "e8589da1-b680-4ee0-b01c-274546f5e092"
      },
      "execution_count": null,
      "outputs": [
        {
          "output_type": "stream",
          "name": "stdout",
          "text": [
            "['SP College', 'Autonomous', 'Sadashiv Peth', 411030]\n",
            "['SP College', 'Autonomous', 'Sadashiv Peth', 411030, 'Autonomous']\n"
          ]
        }
      ]
    },
    {
      "cell_type": "code",
      "source": [
        "print(A.count(\"Pranjal Pawase\"))\n",
        "A.append(\"Pranjal Pawase\")\n",
        "print(A.count(\"Pranjal Pawase\"))"
      ],
      "metadata": {
        "id": "UKLLvm873cnF",
        "colab": {
          "base_uri": "https://localhost:8080/"
        },
        "outputId": "3cc65c3e-ac5f-4298-8f03-bc031f87e962"
      },
      "execution_count": null,
      "outputs": [
        {
          "output_type": "stream",
          "name": "stdout",
          "text": [
            "0\n",
            "1\n"
          ]
        }
      ]
    },
    {
      "cell_type": "code",
      "source": [
        ""
      ],
      "metadata": {
        "id": "8XFRHww63f6e"
      },
      "execution_count": null,
      "outputs": []
    },
    {
      "cell_type": "code",
      "source": [
        "print(A)\n",
        "print(B)\n",
        "A.extend(B)\n",
        "print(A)"
      ],
      "metadata": {
        "id": "ibsuZX363oq5",
        "colab": {
          "base_uri": "https://localhost:8080/"
        },
        "outputId": "29bb1f2a-e34b-48ef-d0c0-bdc7e0e9aba2"
      },
      "execution_count": null,
      "outputs": [
        {
          "output_type": "stream",
          "name": "stdout",
          "text": [
            "['Pranjal', 'Pawase', 21, 'Student', 'Yogesh Kumar']\n",
            "['SP College', 'Autonomous', 'Sadashiv Peth', 411030, 'Autonomous']\n",
            "['Pranjal', 'Pawase', 21, 'Student', 'Yogesh Kumar', 'SP College', 'Autonomous', 'Sadashiv Peth', 411030, 'Autonomous']\n"
          ]
        }
      ]
    },
    {
      "cell_type": "code",
      "source": [
        "print(B.index(\"Sadashiv Peth\"))\n",
        "print(A.index(\"Autonomous\"))\n",
        "\n",
        "### If the elements are repeated in the list then index() will provide the index no. of first element"
      ],
      "metadata": {
        "id": "5LFbw5A03svN",
        "colab": {
          "base_uri": "https://localhost:8080/"
        },
        "outputId": "53d1d8f5-9572-48ea-9f46-3aca361c2c39"
      },
      "execution_count": null,
      "outputs": [
        {
          "output_type": "stream",
          "name": "stdout",
          "text": [
            "2\n",
            "6\n"
          ]
        }
      ]
    },
    {
      "cell_type": "code",
      "source": [
        "K=[\"D\",\"A\",\"C\",\"B\"]\n",
        "print(K)\n",
        "K1=[4,2,1,3]\n",
        "print(K1)\n",
        "K.sort()\n",
        "K1.sort()\n",
        "print(K)\n",
        "print(K1)\n",
        "\n",
        "### For sorting all the elements in the list should be of same type"
      ],
      "metadata": {
        "id": "82JiGMRP3wvS",
        "colab": {
          "base_uri": "https://localhost:8080/"
        },
        "outputId": "34abdfa9-8504-4cdd-b205-04efe4d83ddb"
      },
      "execution_count": null,
      "outputs": [
        {
          "output_type": "stream",
          "name": "stdout",
          "text": [
            "['D', 'A', 'C', 'B']\n",
            "[4, 2, 1, 3]\n",
            "['A', 'B', 'C', 'D']\n",
            "[1, 2, 3, 4]\n"
          ]
        }
      ]
    },
    {
      "cell_type": "code",
      "source": [
        "print(K[:2])\n",
        "print(K1[0:])"
      ],
      "metadata": {
        "id": "_xkRvZQP3zEq",
        "colab": {
          "base_uri": "https://localhost:8080/"
        },
        "outputId": "7adc575c-c981-41ba-bbc8-0898018976f0"
      },
      "execution_count": null,
      "outputs": [
        {
          "output_type": "stream",
          "name": "stdout",
          "text": [
            "['A', 'B']\n",
            "[1, 2, 3, 4]\n"
          ]
        }
      ]
    },
    {
      "cell_type": "code",
      "source": [
        "ABlist=[\"Pranjal Pawase\",\"SP COllege\",[21,411030]]\n",
        "print(ABlist)\n",
        "print(ABlist[2])"
      ],
      "metadata": {
        "id": "sdUB9k2J32tF",
        "colab": {
          "base_uri": "https://localhost:8080/"
        },
        "outputId": "60c3ff1c-bd07-44fb-f50c-17fa58e5999b"
      },
      "execution_count": null,
      "outputs": [
        {
          "output_type": "stream",
          "name": "stdout",
          "text": [
            "['Pranjal Pawase', 'SP COllege', [21, 411030]]\n",
            "[21, 411030]\n"
          ]
        }
      ]
    }
  ]
}