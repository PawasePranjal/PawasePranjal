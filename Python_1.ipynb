{
  "nbformat": 4,
  "nbformat_minor": 0,
  "metadata": {
    "colab": {
      "name": "Python 1",
      "provenance": []
    },
    "kernelspec": {
      "name": "python3",
      "display_name": "Python 3"
    },
    "language_info": {
      "name": "python"
    }
  },
  "cells": [
    {
      "cell_type": "code",
      "execution_count": 1,
      "metadata": {
        "colab": {
          "base_uri": "https://localhost:8080/",
          "height": 35
        },
        "id": "fpx8izs2R4eZ",
        "outputId": "17f2a89e-bb27-4a9c-ae00-23fca0449319"
      },
      "outputs": [
        {
          "output_type": "execute_result",
          "data": {
            "text/plain": [
              "'Pranjal'"
            ],
            "application/vnd.google.colaboratory.intrinsic+json": {
              "type": "string"
            }
          },
          "metadata": {},
          "execution_count": 1
        }
      ],
      "source": [
        "a=\"Pranjal\"\n",
        "a"
      ]
    },
    {
      "cell_type": "code",
      "source": [
        "b=3\n",
        "c=\"3\"\n",
        "b\n",
        "c\n",
        "#3 is number \n",
        "#\"3\" is a string"
      ],
      "metadata": {
        "colab": {
          "base_uri": "https://localhost:8080/",
          "height": 35
        },
        "id": "SRbjiCBtR9c8",
        "outputId": "b637ffdd-18e8-4c53-bd82-4c2384d9d3e2"
      },
      "execution_count": 2,
      "outputs": [
        {
          "output_type": "execute_result",
          "data": {
            "text/plain": [
              "'3'"
            ],
            "application/vnd.google.colaboratory.intrinsic+json": {
              "type": "string"
            }
          },
          "metadata": {},
          "execution_count": 2
        }
      ]
    },
    {
      "cell_type": "code",
      "source": [
        "A_=1\n",
        "a_=2\n",
        "a=3\n",
        "A=4"
      ],
      "metadata": {
        "id": "mJ4PKXzUSM7W"
      },
      "execution_count": 4,
      "outputs": []
    },
    {
      "cell_type": "code",
      "source": [
        "a"
      ],
      "metadata": {
        "colab": {
          "base_uri": "https://localhost:8080/"
        },
        "id": "a_TV338oST2M",
        "outputId": "3a3f0170-7085-4844-afb0-6c1b74d866e2"
      },
      "execution_count": 5,
      "outputs": [
        {
          "output_type": "execute_result",
          "data": {
            "text/plain": [
              "3"
            ]
          },
          "metadata": {},
          "execution_count": 5
        }
      ]
    },
    {
      "cell_type": "code",
      "source": [
        "s=22/7\n",
        "s"
      ],
      "metadata": {
        "colab": {
          "base_uri": "https://localhost:8080/"
        },
        "id": "fkeqoclfSUnw",
        "outputId": "e5452fd1-9134-41ce-cc1c-418eb51e0817"
      },
      "execution_count": 6,
      "outputs": [
        {
          "output_type": "execute_result",
          "data": {
            "text/plain": [
              "3.142857142857143"
            ]
          },
          "metadata": {},
          "execution_count": 6
        }
      ]
    },
    {
      "cell_type": "code",
      "source": [
        "x,y=10,5\n",
        "print(\"Addition=\",x+y)\n",
        "print(\"Subtraction=\",x-y)\n",
        "print(\"Multiplication=\",x*y)\n",
        "print(\"Division=\",x/y)\n",
        "print(\"Power=\",x**y)\n",
        "print(\"Modulus=\",x%y)\n",
        "print(\"Floor Division=\",x//y)"
      ],
      "metadata": {
        "colab": {
          "base_uri": "https://localhost:8080/"
        },
        "id": "_kE-o2lKSarP",
        "outputId": "46d6dd8d-f15c-49ed-d4c3-bebb098f2d2f"
      },
      "execution_count": 7,
      "outputs": [
        {
          "output_type": "stream",
          "name": "stdout",
          "text": [
            "Addition= 15\n",
            "Subtraction= 5\n",
            "Multiplication= 50\n",
            "Division= 2.0\n",
            "Power= 100000\n",
            "Modulus= 0\n",
            "Floor Division= 2\n"
          ]
        }
      ]
    },
    {
      "cell_type": "code",
      "source": [
        "print(\"sqrt=\",s)"
      ],
      "metadata": {
        "colab": {
          "base_uri": "https://localhost:8080/"
        },
        "id": "eOxi-PPnSfF5",
        "outputId": "a7e42034-4ed3-4ed4-ac8e-b736a9a666ba"
      },
      "execution_count": 8,
      "outputs": [
        {
          "output_type": "stream",
          "name": "stdout",
          "text": [
            "sqrt= 3.142857142857143\n"
          ]
        }
      ]
    },
    {
      "cell_type": "code",
      "source": [
        "x,y,z,a,b,c=\"orange\",\"banana\",\"grapes\",\"kiwi\",\"melon\",\"jackfruit\"\n",
        "print(x)\n",
        "print(y)\n",
        "print(z)\n",
        "print(a)\n",
        "print(b)\n",
        "print(c)"
      ],
      "metadata": {
        "colab": {
          "base_uri": "https://localhost:8080/"
        },
        "id": "9qGsak_JSiAo",
        "outputId": "5dde6242-1d01-4015-a459-5a610adbac2e"
      },
      "execution_count": 9,
      "outputs": [
        {
          "output_type": "stream",
          "name": "stdout",
          "text": [
            "orange\n",
            "banana\n",
            "grapes\n",
            "kiwi\n",
            "melon\n",
            "jackfruit\n"
          ]
        }
      ]
    },
    {
      "cell_type": "code",
      "source": [
        ""
      ],
      "metadata": {
        "id": "rSwS_tTbSiDB"
      },
      "execution_count": null,
      "outputs": []
    },
    {
      "cell_type": "code",
      "source": [
        ""
      ],
      "metadata": {
        "id": "NO_AM2qmSA3h"
      },
      "execution_count": null,
      "outputs": []
    }
  ]
}