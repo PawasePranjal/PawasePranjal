{
 "cells": [
  {
   "cell_type": "code",
   "execution_count": 1,
   "id": "e84fe360",
   "metadata": {},
   "outputs": [
    {
     "name": "stdout",
     "output_type": "stream",
     "text": [
      "My Name is Pranjal\n",
      "Pranjal\n"
     ]
    }
   ],
   "source": [
    "X=\"Pranjal\"\n",
    "print(\"My Name is\",X)\n",
    "print(X)"
   ]
  },
  {
   "cell_type": "code",
   "execution_count": 2,
   "id": "aee0e1c8",
   "metadata": {},
   "outputs": [
    {
     "name": "stdout",
     "output_type": "stream",
     "text": [
      "ML\n",
      "AI\n"
     ]
    }
   ],
   "source": [
    "global y\n",
    "y=\"ML\"\n",
    "z=\"AI\" #local varible\n",
    "print(y)\n",
    "print(z)"
   ]
  },
  {
   "cell_type": "code",
   "execution_count": 3,
   "id": "ff4690c5",
   "metadata": {},
   "outputs": [
    {
     "name": "stdout",
     "output_type": "stream",
     "text": [
      "Pranjal Pawase\n"
     ]
    }
   ],
   "source": [
    "a=\"Pranjal\"\n",
    "b=\"Pawase\"\n",
    "c=a + \" \"+ b\n",
    "print(c)"
   ]
  },
  {
   "cell_type": "code",
   "execution_count": 4,
   "id": "e08afac6",
   "metadata": {},
   "outputs": [
    {
     "name": "stdout",
     "output_type": "stream",
     "text": [
      "<class 'float'>\n",
      "<class 'int'>\n",
      "<class 'complex'>\n"
     ]
    }
   ],
   "source": [
    "a=2.3\n",
    "print(type(a))\n",
    "b=312\n",
    "print(type(b))\n",
    "c=3j\n",
    "print(type(c))"
   ]
  },
  {
   "cell_type": "code",
   "execution_count": 5,
   "id": "804080ea",
   "metadata": {},
   "outputs": [
    {
     "name": "stdout",
     "output_type": "stream",
     "text": [
      "2\n",
      "312.0\n"
     ]
    },
    {
     "ename": "TypeError",
     "evalue": "can't convert complex to int",
     "output_type": "error",
     "traceback": [
      "\u001b[1;31m---------------------------------------------------------------------------\u001b[0m",
      "\u001b[1;31mTypeError\u001b[0m                                 Traceback (most recent call last)",
      "\u001b[1;32m~\\AppData\\Local\\Temp/ipykernel_3308/4153545419.py\u001b[0m in \u001b[0;36m<module>\u001b[1;34m\u001b[0m\n\u001b[0;32m      3\u001b[0m \u001b[0mfloatb\u001b[0m\u001b[1;33m=\u001b[0m\u001b[0mfloat\u001b[0m\u001b[1;33m(\u001b[0m\u001b[0mb\u001b[0m\u001b[1;33m)\u001b[0m\u001b[1;33m\u001b[0m\u001b[1;33m\u001b[0m\u001b[0m\n\u001b[0;32m      4\u001b[0m \u001b[0mprint\u001b[0m\u001b[1;33m(\u001b[0m\u001b[0mfloatb\u001b[0m\u001b[1;33m)\u001b[0m\u001b[1;33m\u001b[0m\u001b[1;33m\u001b[0m\u001b[0m\n\u001b[1;32m----> 5\u001b[1;33m \u001b[0mintc\u001b[0m\u001b[1;33m=\u001b[0m\u001b[0mint\u001b[0m\u001b[1;33m(\u001b[0m\u001b[0mc\u001b[0m\u001b[1;33m)\u001b[0m\u001b[1;33m\u001b[0m\u001b[1;33m\u001b[0m\u001b[0m\n\u001b[0m\u001b[0;32m      6\u001b[0m \u001b[0mprint\u001b[0m\u001b[1;33m(\u001b[0m\u001b[0mintc\u001b[0m\u001b[1;33m)\u001b[0m\u001b[1;33m\u001b[0m\u001b[1;33m\u001b[0m\u001b[0m\n",
      "\u001b[1;31mTypeError\u001b[0m: can't convert complex to int"
     ]
    }
   ],
   "source": [
    "inta=int(a)\n",
    "print(inta)\n",
    "floatb=float(b)\n",
    "print(floatb)\n",
    "intc=int(c)\n",
    "print(intc)"
   ]
  },
  {
   "cell_type": "code",
   "execution_count": 6,
   "id": "6cf1714a",
   "metadata": {},
   "outputs": [
    {
     "name": "stdout",
     "output_type": "stream",
     "text": [
      "(2.3+312j)\n"
     ]
    }
   ],
   "source": [
    "com=complex(a,b)\n",
    "print(com)"
   ]
  },
  {
   "cell_type": "code",
   "execution_count": 7,
   "id": "f58643f5",
   "metadata": {},
   "outputs": [
    {
     "name": "stdout",
     "output_type": "stream",
     "text": [
      "I want 3 pieces of Bread for 5 rupees\n"
     ]
    }
   ],
   "source": [
    "quantity=3\n",
    "item=\"Bread\"\n",
    "price=5\n",
    "myorder=\"I want {} pieces of {} for {} rupees\"\n",
    "print(myorder.format(quantity,item,price))"
   ]
  },
  {
   "cell_type": "code",
   "execution_count": 8,
   "id": "94c39ab0",
   "metadata": {},
   "outputs": [
    {
     "name": "stdout",
     "output_type": "stream",
     "text": [
      "Pranjal\n",
      "20\n",
      "My name is Pranjal age 20 of Class Ty in clg SPC\n"
     ]
    }
   ],
   "source": [
    "Name=input()\n",
    "age=input()\n",
    "Class=\"Ty\"\n",
    "clg=\"SPC\"\n",
    "C=\"My name is {} age {} of Class {} in clg {}\" \n",
    "print(C.format(Name,age,Class,clg))"
   ]
  },
  {
   "cell_type": "code",
   "execution_count": 9,
   "id": "e05a1c4c",
   "metadata": {},
   "outputs": [
    {
     "name": "stdout",
     "output_type": "stream",
     "text": [
      "I want Indian pieces of Bread for 5 rupees.Rupees in Indian currency\n"
     ]
    }
   ],
   "source": [
    "quantity=3\n",
    "item=\"Bread\"\n",
    "price=5\n",
    "country=\"Indian\"\n",
    "myorder=\"I want {d} pieces of {b} for {c} rupees.Rupees in {d} currency\"\n",
    "print(myorder.format(b=item,c=price,a=quantity,d=country))"
   ]
  }
 ],
 "metadata": {
  "kernelspec": {
   "display_name": "Python 3 (ipykernel)",
   "language": "python",
   "name": "python3"
  },
  "language_info": {
   "codemirror_mode": {
    "name": "ipython",
    "version": 3
   },
   "file_extension": ".py",
   "mimetype": "text/x-python",
   "name": "python",
   "nbconvert_exporter": "python",
   "pygments_lexer": "ipython3",
   "version": "3.9.7"
  }
 },
 "nbformat": 4,
 "nbformat_minor": 5
}
