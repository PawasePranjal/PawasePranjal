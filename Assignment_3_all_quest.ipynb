{
  "nbformat": 4,
  "nbformat_minor": 0,
  "metadata": {
    "colab": {
      "name": "Assignment 3 all quest.ipynb",
      "provenance": [],
      "collapsed_sections": []
    },
    "kernelspec": {
      "name": "python3",
      "display_name": "Python 3"
    },
    "language_info": {
      "name": "python"
    }
  },
  "cells": [
    {
      "cell_type": "markdown",
      "source": [
        "Q1 Write a program to convert a given temperature from 0C to 0F. Run the program for given temperature 40C"
      ],
      "metadata": {
        "id": "9sPSnSBV8hch"
      }
    },
    {
      "cell_type": "code",
      "source": [
        "# Temperature in celsius degree\n",
        "celsius = 40\n",
        "\n",
        "# Converting the temperature to\n",
        "# fehrenheit using the above\n",
        "# mentioned formula\n",
        "fahrenheit = (celsius * 1.8) + 32\n",
        "\n",
        "# printing the result\n",
        "print('%.2f Celsius is equivalent to: %.2f Fahrenheit'%(celsius, fahrenheit))# Here %.2f is from dot formating.\n",
        "#first %.2f will take the value of celsios and second %.2f will take the value of fahrenheit"
      ],
      "metadata": {
        "colab": {
          "base_uri": "https://localhost:8080/"
        },
        "id": "oXDTITv58k0r",
        "outputId": "016487f1-7b04-4ecf-ef6b-e2b7168555aa"
      },
      "execution_count": null,
      "outputs": [
        {
          "output_type": "stream",
          "name": "stdout",
          "text": [
            "40.00 Celsius is equivalent to: 104.00 Fahrenheit\n"
          ]
        }
      ]
    },
    {
      "cell_type": "markdown",
      "source": [
        "40.00 Celsius is equivalent to: 104.00 Fahrenheit"
      ],
      "metadata": {
        "id": "Abr-jMbX8Waq"
      }
    },
    {
      "cell_type": "markdown",
      "source": [
        "Q2 Write a module to find simple and compound interest. Calculate simple and compound interest for principal amount=10000, interest rate=10% and time=5 years."
      ],
      "metadata": {
        "id": "Wi5Q1os68UKq"
      }
    },
    {
      "cell_type": "code",
      "source": [
        "principle=float(input(\"Enter the principle amount:\"))\n",
        "time=int(input(\"Enter the time(years):\"))\n",
        "rate=float(input(\"Enter the rate:\"))\n",
        "Simple_interest=(principle*time*rate)/100\n",
        "print(\"The simple interest is:\",Simple_interest)\n"
      ],
      "metadata": {
        "id": "qGhGTyVD53z2"
      },
      "execution_count": null,
      "outputs": []
    },
    {
      "cell_type": "markdown",
      "source": [
        "##OR\n"
      ],
      "metadata": {
        "id": "lhnJsJn9BDhS"
      }
    },
    {
      "cell_type": "code",
      "source": [
        "P=1000\n",
        "R=0.01\n",
        "T=5\n",
        "Simple_interest=(P*R*T)/100\n",
        "print(\"The simple interest is:\",Simple_interest)"
      ],
      "metadata": {
        "colab": {
          "base_uri": "https://localhost:8080/"
        },
        "id": "L7Nv9kNvAYZw",
        "outputId": "82b2b5db-7bb7-4039-f820-dda9dd0d1c15"
      },
      "execution_count": null,
      "outputs": [
        {
          "output_type": "stream",
          "name": "stdout",
          "text": [
            "The simple interest is: 0.5\n"
          ]
        }
      ]
    },
    {
      "cell_type": "code",
      "source": [
        "p = float(input(\"Enter the principal amount : \"))\n",
        " \n",
        "t = float(input(\"Enter the number of years : \"))\n",
        " \n",
        "r = float(input(\"Enter the rate of interest : \"))\n",
        " \n",
        "#compute compound interest\n",
        "ci =  p * (pow((1 + r / 100), t)) \n",
        " \n",
        "#print\n",
        "print(\"Compound interest : {}\".format(ci))\n"
      ],
      "metadata": {
        "colab": {
          "base_uri": "https://localhost:8080/"
        },
        "id": "HIHI6n_d6vkH",
        "outputId": "fedc5b24-bee8-4db4-e32f-d9ea2a3d42f9"
      },
      "execution_count": null,
      "outputs": [
        {
          "output_type": "stream",
          "name": "stdout",
          "text": [
            "Enter the principal amount : 1000\n",
            "Enter the number of years : 5\n",
            "Enter the rate of interest : 0.01\n",
            "Compound interest : 1000.5001000100004\n"
          ]
        }
      ]
    },
    {
      "cell_type": "markdown",
      "source": [
        "##OR"
      ],
      "metadata": {
        "id": "0fcUGAcBDb_Z"
      }
    },
    {
      "cell_type": "code",
      "source": [
        "P=1000\n",
        "r=0.01\n",
        "t=5\n",
        "Compound_interest=P*(pow((1+r/100),t))\n",
        "print(\"Compound interest:\",Compound_interest)"
      ],
      "metadata": {
        "colab": {
          "base_uri": "https://localhost:8080/"
        },
        "id": "d3V2HPqEBaRq",
        "outputId": "00046bd8-ec32-4c60-b7ce-cfad9cef6ef7"
      },
      "execution_count": null,
      "outputs": [
        {
          "output_type": "stream",
          "name": "stdout",
          "text": [
            "Compound interest: 1000.5001000100004\n"
          ]
        }
      ]
    },
    {
      "cell_type": "markdown",
      "source": [
        "Q3 Write a program to check whether given integer m is divisible by integer n or not. Run the program for m=5, n=2 and m=6,n=3.\n"
      ],
      "metadata": {
        "id": "oWMLB5HQ61U6"
      }
    },
    {
      "cell_type": "code",
      "source": [
        "def multiple(m, n):\n",
        "\treturn True if m % n == 0 else False\n",
        "\n",
        "print(multiple(5, 2))\n",
        "print(multiple(6, 3))"
      ],
      "metadata": {
        "id": "5MuB4n__6z7J"
      },
      "execution_count": null,
      "outputs": []
    },
    {
      "cell_type": "markdown",
      "source": [
        "Q4 Write a program to check whether given integer is odd or even. Run the program for 20 and 11."
      ],
      "metadata": {
        "id": "f3SVNWZA7jzL"
      }
    },
    {
      "cell_type": "code",
      "source": [
        "#Python program to check if the input number is odd or even.\n",
        "# A number is even if division by 2 gives a remainder of 0.\n",
        "# If the remainder is 1, it is an odd number.\n",
        "\n",
        "num = int(input(\"Enter a number: \"))\n",
        "if (num % 2) == 0:\n",
        "   print(\"{0} is Even\".format(num))\n",
        "else:\n",
        "   print(\"{0} is Odd\".format(num))"
      ],
      "metadata": {
        "id": "as_Vchwf7kgc"
      },
      "execution_count": null,
      "outputs": []
    },
    {
      "cell_type": "markdown",
      "source": [
        "##OR\n"
      ],
      "metadata": {
        "id": "HSQEp7sXFS4w"
      }
    },
    {
      "cell_type": "code",
      "source": [
        "num=int(input(\"Enter the number:\"))\n",
        "if(num%2)==0:\n",
        "  print('num is even')\n",
        "else:\n",
        "  print('num is odd')"
      ],
      "metadata": {
        "colab": {
          "base_uri": "https://localhost:8080/"
        },
        "id": "jadOR3p8E0x9",
        "outputId": "1b7f5aa0-6e8a-4d82-88e4-5375430f71d9"
      },
      "execution_count": null,
      "outputs": [
        {
          "output_type": "stream",
          "name": "stdout",
          "text": [
            "Enter the number:20\n",
            "num is even\n"
          ]
        }
      ]
    },
    {
      "cell_type": "markdown",
      "source": [
        "Q7.Write a program to create and print a new dictionary by concatenating following"
      ],
      "metadata": {
        "id": "J91mnXcl717o"
      }
    },
    {
      "cell_type": "code",
      "source": [
        "dic1={1:10, 2:20}\n",
        "dic2={3:30, 4:40}\n",
        "\n",
        "dic3 = {}\n",
        "for d in (dic1, dic2): dic3.update(d)\n",
        "print(dic3)"
      ],
      "metadata": {
        "colab": {
          "base_uri": "https://localhost:8080/"
        },
        "id": "8WjAs5WF73gX",
        "outputId": "8d8eafd1-6f6a-4cb9-c89c-0291ea5beaac"
      },
      "execution_count": null,
      "outputs": [
        {
          "output_type": "stream",
          "name": "stdout",
          "text": [
            "{1: 10, 2: 20, 3: 30, 4: 40}\n"
          ]
        }
      ]
    },
    {
      "cell_type": "markdown",
      "source": [
        "Q8 Write a program to generate and print first n=10 Fibonacci numbers\n",
        "\n"
      ],
      "metadata": {
        "id": "mQiPSp8R79Uz"
      }
    },
    {
      "cell_type": "code",
      "source": [
        "# Program to display the Fibonacci sequence up to n-th term\n",
        "#Q7.Write a program to create and print a new dictionary by concatenating following\n",
        "\n",
        "dic1={1:10, 2:20}\n",
        "nterms = int(input(\"How many terms? \"))\n",
        "\n",
        "# first two terms\n",
        "n1, n2 = 0, 1\n",
        "count = 0\n",
        "\n",
        "# check if the number of terms is valid\n",
        "if nterms <= 0:\n",
        "   print(\"Please enter a positive integer\")\n",
        "# if there is only one term, return n1\n",
        "elif nterms == 1:\n",
        "   print(\"Fibonacci sequence upto\",nterms,\":\")\n",
        "   print(n1)\n",
        "# generate fibonacci sequence\n",
        "else:\n",
        "   print(\"Fibonacci sequence:\")\n",
        "   while count < nterms:\n",
        "       print(n1)\n",
        "       nth = n1 + n2\n",
        "       # update values\n",
        "       n1 = n2\n",
        "       n2 = nth\n",
        "       count += 1"
      ],
      "metadata": {
        "colab": {
          "base_uri": "https://localhost:8080/"
        },
        "id": "xl9snxcC7_tW",
        "outputId": "b0b1abb4-475f-45e0-8798-a7db2583ef93"
      },
      "execution_count": null,
      "outputs": [
        {
          "output_type": "stream",
          "name": "stdout",
          "text": [
            "How many terms? 5\n",
            "Fibonacci sequence:\n",
            "0\n",
            "1\n",
            "1\n",
            "2\n",
            "3\n"
          ]
        }
      ]
    },
    {
      "cell_type": "markdown",
      "source": [
        "##OR"
      ],
      "metadata": {
        "id": "MiqkGLiuR9Yc"
      }
    },
    {
      "cell_type": "code",
      "source": [
        "dict1={1:10,2:20}\n",
        "nterms=int(input('how many term?'))\n",
        "n1,n2=0,1\n",
        "count=0\n",
        "\n",
        "if nterms==1:\n",
        "  print(\"Fibonic sequence upto\",nterms,\":\")\n",
        "  print(n1)\n",
        "else:\n",
        "  print(\"Fibonic sequence:\")\n",
        "  while count< nterms:\n",
        "      print(n1)\n",
        "      nth=n1+n2\n",
        "      n1=n2\n",
        "      n2=nth\n",
        "      count+=1\n",
        "\n",
        "\n",
        "\n",
        "\n",
        "\n",
        "\n",
        "\n"
      ],
      "metadata": {
        "colab": {
          "base_uri": "https://localhost:8080/"
        },
        "id": "J1DD5h6VH0Iy",
        "outputId": "1a362bb2-a2dc-44d4-827d-771256bc14be"
      },
      "execution_count": null,
      "outputs": [
        {
          "output_type": "stream",
          "name": "stdout",
          "text": [
            "how many term?6\n",
            "Fibonic sequence:\n",
            "0\n",
            "1\n",
            "1\n",
            "2\n",
            "3\n",
            "5\n"
          ]
        }
      ]
    },
    {
      "cell_type": "markdown",
      "source": [
        "Q9 Write a user defined function to find and print the intersection and union of two sets. Run the function for two sets A={a, b, c, d} and B={b, c, e}."
      ],
      "metadata": {
        "id": "LCH_0wNe8JSI"
      }
    },
    {
      "cell_type": "code",
      "source": [
        "def intersection(A, B):\n",
        "     C=[value for value in A if value in B]\n",
        "     return C\n",
        "  \n",
        "\n",
        " \n",
        "# Driver Code\n",
        "A={\"a\", \"b\", \"c\", \"d\"}\n",
        "B={\"b\", \"c\", \"e\"}\n",
        "print(intersection(A, B))"
      ],
      "metadata": {
        "colab": {
          "base_uri": "https://localhost:8080/"
        },
        "id": "F3EdYJEx8J2Q",
        "outputId": "f77cc1ff-2d49-4439-cbb5-3b82a5f0f64b"
      },
      "execution_count": null,
      "outputs": [
        {
          "output_type": "stream",
          "name": "stdout",
          "text": [
            "['b', 'c']\n"
          ]
        }
      ]
    },
    {
      "cell_type": "code",
      "source": [
        "# Question 10\n",
        "# (A) The user defined function to obtain sum of first n natural number \n",
        "\n",
        "\n",
        "num =int(input(\"Enter number upto which we want sum \"))\n",
        "\n",
        "i=1\n",
        "sum=0\n",
        "while(i<=num):\n",
        "     sum=sum+i\n",
        "     i=i+1\n",
        "print(\"Sum of first n numbers is\",sum)\n"
      ],
      "metadata": {
        "colab": {
          "base_uri": "https://localhost:8080/"
        },
        "id": "nDFGBXYuVm3s",
        "outputId": "13c0b1a2-a751-479d-eae1-9229b23d18a5"
      },
      "execution_count": null,
      "outputs": [
        {
          "output_type": "stream",
          "name": "stdout",
          "text": [
            "Enter number upto which we want sum 10\n",
            "Sum of first n numbers is 55\n"
          ]
        }
      ]
    },
    {
      "cell_type": "code",
      "source": [
        "##(B) The user defined function to obtain sum of square of first n natural number\n",
        "num=int(input(\"Enter number upto which we want sum \"))\n",
        "i=1\n",
        "sum=0\n",
        "while(i<=num):\n",
        "    sum=sum+(i*i)\n",
        "    i=i+1\n",
        "print(\"sum of square of first n natural number is\",sum)"
      ],
      "metadata": {
        "id": "ojtuuE-TZEs9"
      },
      "execution_count": null,
      "outputs": []
    },
    {
      "cell_type": "code",
      "source": [
        "# Question 11\n",
        " \n",
        "# Obtain sum of first n odd numbers\n",
        "\n",
        "limit=int(input(\"Enter limit \"))\n",
        "# Here we are add first  10 odd no.s between 1 to 20\n",
        "i=1\n",
        "sum=0\n",
        "while(i<=limit):\n",
        "     sum=sum+i\n",
        "     i=i+2\n",
        "print(\"Sum of n odd no. is\",sum)\n"
      ],
      "metadata": {
        "colab": {
          "base_uri": "https://localhost:8080/"
        },
        "id": "6zHJaG1maXeW",
        "outputId": "a40653ca-f14e-41b2-e029-1fc728b1b226"
      },
      "execution_count": null,
      "outputs": [
        {
          "output_type": "stream",
          "name": "stdout",
          "text": [
            "Enter limit 20\n",
            "Sum of n odd no. is 100\n"
          ]
        }
      ]
    },
    {
      "cell_type": "markdown",
      "source": [
        "##OR"
      ],
      "metadata": {
        "id": "9ZVfwwZucg_y"
      }
    },
    {
      "cell_type": "code",
      "source": [
        "limit=int(input(\"Enter limit\"))\n",
        "i=1\n",
        "sum=0\n",
        "while(i<=limit):\n",
        "  sum=sum+i\n",
        "  i=i+2\n",
        "print(\"Sum of n odd no.is\",sum)"
      ],
      "metadata": {
        "colab": {
          "base_uri": "https://localhost:8080/"
        },
        "id": "kKvLj8MQbhf2",
        "outputId": "8b7c4889-c0fa-47b5-98a7-355ca7c0d478"
      },
      "execution_count": null,
      "outputs": [
        {
          "output_type": "stream",
          "name": "stdout",
          "text": [
            "Enter limit20\n",
            "Sum of n odd no.is 100\n"
          ]
        }
      ]
    },
    {
      "cell_type": "code",
      "source": [
        "limit=int(input(\"Enter limit\"))\n",
        "i=1\n",
        "sum=0\n",
        "while(i<=limit):\n",
        "  sum=sum+(i*i)\n",
        "  i=i+2\n",
        "print(\"Sum of n odd no.is\",sum)"
      ],
      "metadata": {
        "colab": {
          "base_uri": "https://localhost:8080/"
        },
        "id": "YWdNX8rTcjfM",
        "outputId": "d6630fb1-e2a2-4f28-c984-6022dd9c8e41"
      },
      "execution_count": null,
      "outputs": [
        {
          "output_type": "stream",
          "name": "stdout",
          "text": [
            "Enter limit20\n",
            "Sum of n odd no.is 1330\n"
          ]
        }
      ]
    },
    {
      "cell_type": "code",
      "source": [
        "#Quest 13"
      ],
      "metadata": {
        "id": "y13U088RgNI5"
      },
      "execution_count": null,
      "outputs": []
    },
    {
      "cell_type": "code",
      "source": [
        "# Obtain and print roots of quadratic equation \n",
        "\n",
        "import math\n",
        "a=float(input(\"a:\"))\n",
        "b=float(input(\"b:\"))\n",
        "c=float(input(\"c:\"))\n",
        "\n",
        "delta=math.pow(b,2)-(4*a*c)\n",
        "\n",
        "if delta > 0:\n",
        "   x1=(((-b)+math.sqrt(delta))/(2*a))\n",
        "   x2=(((-b)-math.sqrt(delta))/(2*a))\n",
        "   print(\"There are two roots : %f and %f \" % (x1,x2))\n",
        "elif delta == 0:\n",
        "  x=(-b)/2*a\n",
        "  print(\"There is one root:\",x)\n",
        "else:\n",
        "  print(\"No Roots, delta < 0\")\n"
      ],
      "metadata": {
        "colab": {
          "base_uri": "https://localhost:8080/"
        },
        "id": "BYIF10ywgmOf",
        "outputId": "35549126-db00-4dba-d154-aff549283857"
      },
      "execution_count": null,
      "outputs": [
        {
          "output_type": "stream",
          "name": "stdout",
          "text": [
            "a:1\n",
            "b:2\n",
            "c:-2\n",
            "There are two roots : 0.732051 and -2.732051 \n"
          ]
        }
      ]
    },
    {
      "cell_type": "code",
      "source": [
        "# Question 14\n",
        "\n",
        "# Obtain Sum of first n even no. \n",
        "\n",
        "n=int(input(\"How many even no.s you want to add  \"))\n",
        "i=1\n",
        "sum=0\n",
        "count=1\n",
        "while(count<=n):\n",
        "   if(i%2==0):\n",
        "     sum=sum+i\n",
        "     count=count=count+1\n",
        "   i=i+1\n",
        "print(\"Sum of even no.s=\", sum)     "
      ],
      "metadata": {
        "colab": {
          "base_uri": "https://localhost:8080/"
        },
        "id": "-fzbcpm4k7Ou",
        "outputId": "e2dbde81-afe4-4d68-f690-1d4f6a9ac3e6"
      },
      "execution_count": null,
      "outputs": [
        {
          "output_type": "stream",
          "name": "stdout",
          "text": [
            "How many even no.s you want to add  10\n",
            "Sum of even no.s= 110\n"
          ]
        }
      ]
    },
    {
      "cell_type": "code",
      "source": [
        "# Question 7\n",
        "\n",
        "# Find and print sum and sum of square of even numbers in given numbers\n",
        "\n",
        "# (A) Sum of even numbers in given numbers\n",
        "a=[20,12,15,1,7,10,5,1,15,5]\n",
        "even=[]\n",
        "odd=[]\n",
        "for i in a:\n",
        "    if i%2==0:\n",
        "        even.append(i)\n",
        "        print (\"even=\",even)\n",
        "       \n",
        "        \n",
        "    else:\n",
        "        odd.append(i)\n",
        "        print (\"odd=\",odd)"
      ],
      "metadata": {
        "colab": {
          "base_uri": "https://localhost:8080/"
        },
        "id": "VCDmQh9Pmnuv",
        "outputId": "75267156-af46-41b0-dc66-e46f16aadc20"
      },
      "execution_count": null,
      "outputs": [
        {
          "output_type": "stream",
          "name": "stdout",
          "text": [
            "even= [20]\n",
            "even= [20, 12]\n",
            "odd= [15]\n",
            "odd= [15, 1]\n",
            "odd= [15, 1, 7]\n",
            "even= [20, 12, 10]\n",
            "odd= [15, 1, 7, 5]\n",
            "odd= [15, 1, 7, 5, 1]\n",
            "odd= [15, 1, 7, 5, 1, 15]\n",
            "odd= [15, 1, 7, 5, 1, 15, 5]\n"
          ]
        }
      ]
    },
    {
      "cell_type": "code",
      "source": [
        "print(even)"
      ],
      "metadata": {
        "colab": {
          "base_uri": "https://localhost:8080/"
        },
        "id": "BFfZziC9nD3B",
        "outputId": "e2b35768-496f-4c74-89de-ed4105c007c0"
      },
      "execution_count": null,
      "outputs": [
        {
          "output_type": "stream",
          "name": "stdout",
          "text": [
            "[20, 12, 10]\n"
          ]
        }
      ]
    },
    {
      "cell_type": "code",
      "source": [
        "print(odd)"
      ],
      "metadata": {
        "colab": {
          "base_uri": "https://localhost:8080/"
        },
        "id": "iNBdbbEbnFrz",
        "outputId": "4170974b-5c2f-46a5-98d7-86b23de8733a"
      },
      "execution_count": null,
      "outputs": [
        {
          "output_type": "stream",
          "name": "stdout",
          "text": [
            "[15, 1, 7, 5, 1, 15, 5]\n"
          ]
        }
      ]
    },
    {
      "cell_type": "code",
      "source": [
        "even_sum=0\n",
        "for i in range(0,len(even)):\n",
        "     even_sum=even_sum+even[i]\n",
        "\n",
        "print(\"sum of even numbers is\" ,even_sum)  \n",
        "   "
      ],
      "metadata": {
        "id": "Efka81HSnHST"
      },
      "execution_count": null,
      "outputs": []
    },
    {
      "cell_type": "code",
      "source": [
        "# (B)\n",
        "sum_of_sq_even_no=0\n",
        "for i in range(0,len(even)):\n",
        "     sum_of_sq_even_no=sum_of_sq_even_no+(even[i]*even[i])\n",
        "print(\"Sum of square of even numbers in given no is\",sum_of_sq_even_no)     "
      ],
      "metadata": {
        "id": "AdjI-oGtnKIR"
      },
      "execution_count": null,
      "outputs": []
    },
    {
      "cell_type": "code",
      "source": [
        "# Question 8\n",
        "\n",
        "# solve linear equations simultaneously\n",
        "\n",
        "import numpy as np\n",
        "a=np.array([[4,-3],[6,5]])\n",
        "b=np.array([11,7])\n",
        "np.linalg.solve(a,b)  ##linear algorithm .solve\n",
        "# therefore x=2 and y=-1"
      ],
      "metadata": {
        "id": "Z7YFd0V0puFF"
      },
      "execution_count": null,
      "outputs": []
    },
    {
      "cell_type": "code",
      "source": [
        "#Question 17 length\n",
        "string=\"Statistics\"\n",
        "len(string)"
      ],
      "metadata": {
        "colab": {
          "base_uri": "https://localhost:8080/"
        },
        "id": "Z00XLDdXrWTE",
        "outputId": "32e58e38-8605-47e1-8d14-f8189457ceae"
      },
      "execution_count": null,
      "outputs": [
        {
          "output_type": "execute_result",
          "data": {
            "text/plain": [
              "10"
            ]
          },
          "metadata": {},
          "execution_count": 71
        }
      ]
    },
    {
      "cell_type": "code",
      "source": [
        "#Question 18 for 'Start'\n",
        "def isPalindrome(s):\n",
        "    return s == s[::-1]\n",
        " \n",
        " \n",
        "# Driver code\n",
        "s = input(\"Enter the string:\")\n",
        "ans = isPalindrome(s)\n",
        " \n",
        "if ans:\n",
        "    print(\"Yes\")\n",
        "else:\n",
        "    print(\"No\")"
      ],
      "metadata": {
        "colab": {
          "base_uri": "https://localhost:8080/"
        },
        "id": "Z5a6CFqTrYPE",
        "outputId": "1fbcc9ae-474f-43a9-d77d-b1aabff04116"
      },
      "execution_count": null,
      "outputs": [
        {
          "output_type": "stream",
          "name": "stdout",
          "text": [
            "Enter the string:START\n",
            "No\n"
          ]
        }
      ]
    },
    {
      "cell_type": "code",
      "source": [
        "def isPalindrome(s):\n",
        "    return s == s[::-1]\n",
        " \n",
        " \n",
        "# Driver code\n",
        "s = input(\"Enter the string:\")\n",
        "ans = isPalindrome(s)\n",
        " \n",
        "if ans:\n",
        "    print(\"Yes\")\n",
        "else:\n",
        "    print(\"No\")"
      ],
      "metadata": {
        "colab": {
          "base_uri": "https://localhost:8080/"
        },
        "id": "CKCp6RDkrxvg",
        "outputId": "656b16b5-0c2b-4a6f-f3f8-6fe6088f02d2"
      },
      "execution_count": null,
      "outputs": [
        {
          "output_type": "stream",
          "name": "stdout",
          "text": [
            "Enter the string:MADAM\n",
            "Yes\n"
          ]
        }
      ]
    },
    {
      "cell_type": "code",
      "source": [
        "#Question 19\n",
        "def Convert(string):\n",
        "    list1=[]\n",
        "    list1[:0]=string\n",
        "    return list1\n",
        "\n",
        "\n",
        "def count_occur(list1,x):\n",
        "    count = 0\n",
        "    for ele in list1:\n",
        "        if (ele == x):\n",
        "            count = count + 1\n",
        "    return count\n",
        "\n",
        "# Driver code\n",
        "str1=\"Statistics\"\n",
        "list=Convert(str1)\n",
        "print(Convert(str1))\n",
        "\n",
        "for i in range(len(list)):\n",
        "  \n",
        "    print('{} has occurred {} times'.format(list[i], count_occur(list, list[i])))"
      ],
      "metadata": {
        "id": "kYR9fj7Rsxvz"
      },
      "execution_count": null,
      "outputs": []
    },
    {
      "cell_type": "code",
      "source": [
        "#Question 20\n",
        "#  to check character is Alphabet or not for b\n",
        "ch = input(\"Please Enter Your Own Character : \")\n",
        "\n",
        "if((ch >= 'a' and ch <= 'z') or (ch >= 'A' and ch <= 'Z')):\n",
        "    print(\"The Given Character \", ch, \"is an Alphabet\")\n",
        "else:\n",
        "    print(\"The Given Character \", ch, \"is Not an Alphabet\")"
      ],
      "metadata": {
        "id": "o55zKM0atTug"
      },
      "execution_count": null,
      "outputs": []
    },
    {
      "cell_type": "code",
      "source": [
        "#Question 20\n",
        "#Question to check character is Alphabet or not for *\n",
        "ch = input(\"Please Enter Your Own Character : \")\n",
        "\n",
        "if((ch >= 'a' and ch <= 'z') or (ch >= 'A' and ch <= 'Z')):\n",
        "    print(\"The Given Character \", ch, \"is an Alphabet\")\n",
        "else:\n",
        "    print(\"The Given Character \", ch, \"is Not an Alphabet\")"
      ],
      "metadata": {
        "id": "DRVVXNAatY0Q"
      },
      "execution_count": null,
      "outputs": []
    },
    {
      "cell_type": "code",
      "source": [
        "#Question 21\n",
        "list=['Statistics','Stat','Mathematics','Math']\n",
        "print(\"The smallest words here are:\")\n",
        "for i in range(len(list)):\n",
        "    length=len(list[i])\n",
        "    \n",
        "    if(len(list[i])<len(list[i-1])):\n",
        "           print(list[i])\n",
        "\n",
        "print(\"The length here is: \")\n",
        "print(+len(list[i]))           "
      ],
      "metadata": {
        "id": "-9k-zZ7wtcuj"
      },
      "execution_count": null,
      "outputs": []
    },
    {
      "cell_type": "code",
      "source": [
        "#Question 22   #a\n",
        "l = input(\"Enter the character: \") \n",
        "if l.lower() in ('a', 'e', 'i', 'o', 'u'): \n",
        "    print(\"Vowel\") \n",
        "elif l.upper() in ('A', 'E', 'I', 'O', 'U'):\n",
        "    print(\"Vowel\") \n",
        "else: print(\"Consonant\")"
      ],
      "metadata": {
        "id": "Xi0IJrYltgl-"
      },
      "execution_count": null,
      "outputs": []
    },
    {
      "cell_type": "code",
      "source": [
        "#Question 22   #f\n",
        "l = input(\"Enter the character: \") \n",
        "if l.lower() in ('a', 'e', 'i', 'o', 'u'): \n",
        "    print(\"Vowel\") \n",
        "elif l.upper() in ('A', 'E', 'I', 'O', 'U'):\n",
        "    print(\"Vowel\") \n",
        "else: print(\"Consonant\")"
      ],
      "metadata": {
        "id": "UMKLvk43tkZ8"
      },
      "execution_count": null,
      "outputs": []
    },
    {
      "cell_type": "code",
      "source": [
        "#Question 22   #man\n",
        "l = input(\"Enter the character: \") \n",
        "if l.lower() in ('a', 'e', 'i', 'o', 'u'): \n",
        "    print(\"Vowel\") \n",
        "elif l.upper() in ('A', 'E', 'I', 'O', 'U'):\n",
        "    print(\"Vowel\") \n",
        "else: print(\"Consonant\")"
      ],
      "metadata": {
        "id": "8gtZR_p2tnTC"
      },
      "execution_count": null,
      "outputs": []
    },
    {
      "cell_type": "code",
      "source": [
        "import matplotlib.pyplot as plt"
      ],
      "metadata": {
        "id": "gXbuqGgRtt7w"
      },
      "execution_count": null,
      "outputs": []
    },
    {
      "cell_type": "code",
      "source": [
        "#Question 23\n",
        "x=[2015,2016,2017,2018,2019,2020]\n",
        "y=[700,1200,900,800,950,1000]\n",
        "plt.plot(x,y)\n",
        "plt.xlabel('Year')\n",
        "plt.ylabel('No.of students')\n",
        "Text(0, 0.5, 'No.of students')"
      ],
      "metadata": {
        "id": "Dh7nw9Amty17"
      },
      "execution_count": null,
      "outputs": []
    },
    {
      "cell_type": "code",
      "source": [
        "#Question 24  #a)\n",
        "X=[1,2,3,4,5,6]\n",
        "f=[1,2,2,8,9,1]\n",
        "plt.bar(X,f)\n",
        "plt.ylabel(\"f\")\n",
        "plt.title(\"X vs f\")\n",
        "plt.show()"
      ],
      "metadata": {
        "id": "rYfS67wKt5FX"
      },
      "execution_count": null,
      "outputs": []
    },
    {
      "cell_type": "code",
      "source": [
        "#Question 24 #b)\n",
        "X=[1,2,3,4,5,6]\n",
        "f=[4,2,7,0,3,1]\n",
        "plt.bar(X,f)\n",
        "plt.ylabel(\"f\")\n",
        "plt.title(\"X vs f\")\n",
        "plt.show()"
      ],
      "metadata": {
        "id": "lzritRi3t-EX"
      },
      "execution_count": null,
      "outputs": []
    },
    {
      "cell_type": "markdown",
      "source": [
        "##Quest 25"
      ],
      "metadata": {
        "id": "X9zBvrK-uFNf"
      }
    },
    {
      "cell_type": "code",
      "source": [
        "from matplotlib import pyplot as plt\n",
        "import numpy as np\n",
        "import pandas as pd "
      ],
      "metadata": {
        "id": "Jf0G1WjAuD55"
      },
      "execution_count": null,
      "outputs": []
    },
    {
      "cell_type": "code",
      "source": [
        "# Creating dataset\n",
        "Section = ['A','B','C','D','E']\n",
        " \n",
        "No_of_workers = [20,36,16,5,49]\n",
        " \n",
        "# Creating plot\n",
        "fig = plt.figure(figsize =(10, 7))\n",
        "plt.pie(No_of_workers, labels =Section)\n",
        "\n",
        "labels=['A','B','C','C','D']\n",
        "plt.legend(labels)\n",
        "plt.title('Total workers per section')"
      ],
      "metadata": {
        "id": "z7BbvCuZuPoL"
      },
      "execution_count": null,
      "outputs": []
    },
    {
      "cell_type": "code",
      "source": [
        "Subject = ['Chemistry','Electronics','Mathematics','Physics','Statistics']\n",
        " \n",
        "NO_of_students = [23.17,13.51,17.37,18.92,27.03]\n",
        " \n",
        "# Creating plot\n",
        "fig = plt.figure(figsize =(12, 7))\n",
        "plt.pie(NO_of_students, labels = Section)\n",
        "\n",
        "labels=['Chemistry','Electronics','Mathematics','Physics','Statistics']\n",
        "plt.legend(labels)\n",
        "plt.title('Total students per class')"
      ],
      "metadata": {
        "id": "4lMB6QyJuYC2"
      },
      "execution_count": null,
      "outputs": []
    },
    {
      "cell_type": "markdown",
      "source": [
        "##Quest 26"
      ],
      "metadata": {
        "id": "KazrHGpFuhWD"
      }
    },
    {
      "cell_type": "code",
      "source": [
        ""
      ],
      "metadata": {
        "id": "AVHDVgJsuq35"
      },
      "execution_count": null,
      "outputs": []
    },
    {
      "cell_type": "code",
      "source": [
        "Year=['2017-18','2018-19','2019-20']\n",
        "Arts=[750,725,850]\n",
        "Commerce=[1450,1625,1750]\n",
        "\n",
        "plt.bar(Year,Arts,color='yellow')\n",
        "plt.bar(Year,Commerce,bottom=Arts,color='b')\n",
        "\n",
        "\n",
        "plt.legend(['Arts','Commerce'])\n",
        "plt.title(\"Subdivided Bar diagram\")\n",
        "plt.show()"
      ],
      "metadata": {
        "id": "5UN_oGPEuf4y"
      },
      "execution_count": null,
      "outputs": []
    },
    {
      "cell_type": "markdown",
      "source": [
        "##Quest 27"
      ],
      "metadata": {
        "id": "qFui70vTutUR"
      }
    },
    {
      "cell_type": "code",
      "source": [
        "Year=['2016','2017','2018','2019','2020']\n",
        "Turnover=[6.5,6.7,6.9,7,8]\n",
        "Profit=[1.2,1.7,1.8,1.9,2]\n",
        "\n",
        "  \n",
        "X_axis = np.arange(len(Year))\n",
        "  \n",
        "plt.bar(X_axis - 0.2, Turnover, 0.4, label = 'Turnover')\n",
        "plt.bar(X_axis + 0.2, Profit, 0.4, label = 'Profits')\n",
        "  \n",
        "plt.xticks(X_axis, Year)\n",
        "plt.xlabel(\"Year\")\n",
        "plt.ylabel(\"Sales in Lakhs\")\n",
        "plt.title(\"Turnover by year\")\n",
        "plt.legend()"
      ],
      "metadata": {
        "id": "EL00O2PSusMF"
      },
      "execution_count": null,
      "outputs": []
    },
    {
      "cell_type": "markdown",
      "source": [
        "##Quest 29"
      ],
      "metadata": {
        "id": "9ZmeEB_ku4P8"
      }
    },
    {
      "cell_type": "code",
      "source": [
        "data=(15,17,29,37,5,12,45,16,29,32,18,22,24,7,13) \n",
        "fig = plt.figure(figsize =(10, 7))\n",
        " \n",
        "# Creating plot\n",
        "plt.boxplot(data)"
      ],
      "metadata": {
        "id": "dkvXL3IMu27V"
      },
      "execution_count": null,
      "outputs": []
    },
    {
      "cell_type": "code",
      "source": [
        "x = list(np.random.exponential(size=200))\n",
        "x\n",
        "plt.hist(x)"
      ],
      "metadata": {
        "id": "Rj-3QbnUvFmE"
      },
      "execution_count": null,
      "outputs": []
    },
    {
      "cell_type": "markdown",
      "source": [
        "##quest 30"
      ],
      "metadata": {
        "id": "_GfZwct8vVLG"
      }
    },
    {
      "cell_type": "code",
      "source": [
        "x=[2,5,7,8,9,11,13]\n",
        "y=[8,13,18,20,21,25,30]\n",
        "plt.scatter(x,y)"
      ],
      "metadata": {
        "id": "ssr7-8WYvSnw"
      },
      "execution_count": null,
      "outputs": []
    },
    {
      "cell_type": "markdown",
      "source": [
        "Interpretation\n",
        "x and Y shows a positive correletion\n"
      ],
      "metadata": {
        "id": "C2FpxHnKvd-I"
      }
    },
    {
      "cell_type": "markdown",
      "source": [
        "##Quest 31"
      ],
      "metadata": {
        "id": "6BRtRY3FwCoQ"
      }
    },
    {
      "cell_type": "code",
      "source": [
        "x=np.random.uniform(0,1,size=60)\n",
        "y=-0.8*x\n",
        "\n",
        "plt.scatter(x,y)"
      ],
      "metadata": {
        "id": "5mje8DcLvfCZ"
      },
      "execution_count": null,
      "outputs": []
    },
    {
      "cell_type": "markdown",
      "source": [
        "Interpretation\n",
        "The the random variable X and Y are both negatively correlited with each other.\n"
      ],
      "metadata": {
        "id": "fJX0iaaFvveN"
      }
    },
    {
      "cell_type": "markdown",
      "source": [
        "##Quest 32"
      ],
      "metadata": {
        "id": "DnO_nrD0v-QB"
      }
    },
    {
      "cell_type": "code",
      "source": [
        "x=np.random.normal(10,5,size=50)\n",
        "y=2+0.5*x\n",
        "plt.scatter(x,y)"
      ],
      "metadata": {
        "id": "CpjtenOpvwVf"
      },
      "execution_count": null,
      "outputs": []
    },
    {
      "cell_type": "markdown",
      "source": [
        "Interpretation\n",
        "The normal variate x and y are positively correleted."
      ],
      "metadata": {
        "id": "HsGVpqt1v4P3"
      }
    }
  ]
}