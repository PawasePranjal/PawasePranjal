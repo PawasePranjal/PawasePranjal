{
  "nbformat": 4,
  "nbformat_minor": 0,
  "metadata": {
    "colab": {
      "name": "Python 5",
      "provenance": []
    },
    "kernelspec": {
      "name": "python3",
      "display_name": "Python 3"
    },
    "language_info": {
      "name": "python"
    }
  },
  "cells": [
    {
      "cell_type": "code",
      "execution_count": 4,
      "metadata": {
        "colab": {
          "base_uri": "https://localhost:8080/"
        },
        "id": "28Wc8Og4aFTa",
        "outputId": "9a9fce0b-ccdf-4917-e8e4-d039f57a2778"
      },
      "outputs": [
        {
          "output_type": "stream",
          "name": "stdout",
          "text": [
            "p\n",
            "not in name\n"
          ]
        }
      ],
      "source": [
        "name = (\"a\",\"b\",\"c\",\"d\",\"e\")\n",
        "a=input()\n",
        "if a in name:\n",
        "    print(\"is in name\")\n",
        "else:\n",
        "    print(\"not in name\")"
      ]
    },
    {
      "cell_type": "code",
      "source": [
        "a=10\n",
        "b=20\n",
        "c=30\n",
        "d=40\n",
        "if a>b:\n",
        "    print(\"b is not less than a\")\n",
        "else:\n",
        "    print(\"a is not less than b\")\n",
        "if a<c:\n",
        "    print(\"a is less than c\")\n",
        "else:\n",
        "    (\"a is not greater than c\")\n",
        "if a<d:\n",
        "    print(\"a is not greater than d\")\n",
        "else:\n",
        "    print(\"a is greater thAN d\")"
      ],
      "metadata": {
        "colab": {
          "base_uri": "https://localhost:8080/"
        },
        "id": "a93f3Um4aTi4",
        "outputId": "a81872fc-9338-4b52-dd03-886768a0aaeb"
      },
      "execution_count": 5,
      "outputs": [
        {
          "output_type": "stream",
          "name": "stdout",
          "text": [
            "a is not less than b\n",
            "a is less than c\n",
            "a is not greater than d\n"
          ]
        }
      ]
    },
    {
      "cell_type": "code",
      "source": [
        "science_marks=90\n",
        "commarks=60\n",
        "artsmarks=40"
      ],
      "metadata": {
        "id": "igo75xXwaX-q"
      },
      "execution_count": 6,
      "outputs": []
    },
    {
      "cell_type": "code",
      "source": [
        "marks=[\"90\",\"80\",\"70\"]\n",
        "Marks=input()\n",
        "if marks==90:\n",
        "    print(\"We will take science\")\n",
        "elif marks==70:\n",
        "    print(\"we will take commerce\")\n",
        "else:\n",
        "    print(\"we will take arts\")\n"
      ],
      "metadata": {
        "colab": {
          "base_uri": "https://localhost:8080/"
        },
        "id": "hEs6meKmaa4a",
        "outputId": "bf4681a6-e4b0-4b72-f02c-8f938cf36f09"
      },
      "execution_count": 7,
      "outputs": [
        {
          "output_type": "stream",
          "name": "stdout",
          "text": [
            "50\n",
            "we will take arts\n"
          ]
        }
      ]
    },
    {
      "cell_type": "code",
      "source": [
        "num=-100\n",
        "if num>=0:\n",
        "    if num==0:\n",
        "        print(\"zero\")\n",
        "    else:\n",
        "        print(\"positive number is nested\")\n",
        "else:\n",
        "    print(\"negative number\")"
      ],
      "metadata": {
        "colab": {
          "base_uri": "https://localhost:8080/"
        },
        "id": "ywvsNdVKagil",
        "outputId": "4f02961c-2a71-4ae8-c641-901391540fd7"
      },
      "execution_count": 8,
      "outputs": [
        {
          "output_type": "stream",
          "name": "stdout",
          "text": [
            "negative number\n"
          ]
        }
      ]
    },
    {
      "cell_type": "code",
      "source": [
        "b=int(input())\n",
        "if b==1:\n",
        "    if b>10:\n",
        "        print(\"b is a 2 digit number\")\n",
        "    else:\n",
        "        print(\"b is single digit odd number\")\n",
        "else:\n",
        "    print(\"even\")"
      ],
      "metadata": {
        "colab": {
          "base_uri": "https://localhost:8080/"
        },
        "id": "gycMDC5kalWq",
        "outputId": "065049dd-f197-4d70-9026-5b3f10fc7cc3"
      },
      "execution_count": 9,
      "outputs": [
        {
          "output_type": "stream",
          "name": "stdout",
          "text": [
            "38\n",
            "even\n"
          ]
        }
      ]
    }
  ]
}