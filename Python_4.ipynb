{
  "nbformat": 4,
  "nbformat_minor": 0,
  "metadata": {
    "colab": {
      "name": "Python 4",
      "provenance": []
    },
    "kernelspec": {
      "name": "python3",
      "display_name": "Python 3"
    },
    "language_info": {
      "name": "python"
    }
  },
  "cells": [
    {
      "cell_type": "code",
      "execution_count": 1,
      "metadata": {
        "colab": {
          "base_uri": "https://localhost:8080/"
        },
        "id": "TkvyUttiXD23",
        "outputId": "7f698881-9a80-4016-ee1c-309ad0fb207a"
      },
      "outputs": [
        {
          "output_type": "stream",
          "name": "stdout",
          "text": [
            "<class 'list'>\n",
            "['sanket', 'kiran']\n",
            "<class 'str'>\n",
            "ganesh\n",
            "<class 'int'>\n",
            "200\n"
          ]
        }
      ],
      "source": [
        "b = 'ganesh'\n",
        "c = 200\n",
        "a = [\"sanket\",'kiran']\n",
        "print(type(a))\n",
        "print(a)\n",
        "print(type(b))\n",
        "print(b)\n",
        "print(type(c))\n",
        "print(c)"
      ]
    },
    {
      "cell_type": "code",
      "source": [
        "names = ['Raj', 'Arjun', 'Priya','Kishor','Anu']\n",
        "print(names)\n",
        "print(type(names))"
      ],
      "metadata": {
        "colab": {
          "base_uri": "https://localhost:8080/"
        },
        "id": "9mN4oIpOXIws",
        "outputId": "d7eb5ee9-1844-4fb8-8223-c044d70d8289"
      },
      "execution_count": 2,
      "outputs": [
        {
          "output_type": "stream",
          "name": "stdout",
          "text": [
            "['Raj', 'Arjun', 'Priya', 'Kishor', 'Anu']\n",
            "<class 'list'>\n"
          ]
        }
      ]
    },
    {
      "cell_type": "code",
      "source": [
        "names\n",
        "print(names[:3] )\n",
        "print(names[2:])"
      ],
      "metadata": {
        "colab": {
          "base_uri": "https://localhost:8080/"
        },
        "id": "2jFlAfMoXOGN",
        "outputId": "80aae7ce-ea83-4071-acf1-68fa8f784e1b"
      },
      "execution_count": 3,
      "outputs": [
        {
          "output_type": "stream",
          "name": "stdout",
          "text": [
            "['Raj', 'Arjun', 'Priya']\n",
            "['Priya', 'Kishor', 'Anu']\n"
          ]
        }
      ]
    },
    {
      "cell_type": "code",
      "source": [
        "print(names[3])\n",
        "print(names[2:])\n",
        "print(names[:2])\n",
        "print(names[1:3])"
      ],
      "metadata": {
        "colab": {
          "base_uri": "https://localhost:8080/"
        },
        "id": "yOdvhSPqXQ7B",
        "outputId": "c93b1445-a757-47e0-a60a-734c9b598198"
      },
      "execution_count": 4,
      "outputs": [
        {
          "output_type": "stream",
          "name": "stdout",
          "text": [
            "Kishor\n",
            "['Priya', 'Kishor', 'Anu']\n",
            "['Raj', 'Arjun']\n",
            "['Arjun', 'Priya']\n"
          ]
        }
      ]
    },
    {
      "cell_type": "code",
      "source": [
        "print(names)\n",
        "names[3]=\"joy\"\n",
        "print(names)"
      ],
      "metadata": {
        "colab": {
          "base_uri": "https://localhost:8080/"
        },
        "id": "VF4BQxT6XT63",
        "outputId": "39e4f7bf-ad02-4d8c-d11a-3dc71d4dc1dd"
      },
      "execution_count": 5,
      "outputs": [
        {
          "output_type": "stream",
          "name": "stdout",
          "text": [
            "['Raj', 'Arjun', 'Priya', 'Kishor', 'Anu']\n",
            "['Raj', 'Arjun', 'Priya', 'joy', 'Anu']\n"
          ]
        }
      ]
    },
    {
      "cell_type": "code",
      "source": [
        "# Looping through lists\n",
        "for j in names:\n",
        "    print(j)#+'5'+j)"
      ],
      "metadata": {
        "colab": {
          "base_uri": "https://localhost:8080/"
        },
        "id": "_B2_R11iXWar",
        "outputId": "0cf00983-7588-40fc-822e-286427dc8be2"
      },
      "execution_count": 6,
      "outputs": [
        {
          "output_type": "stream",
          "name": "stdout",
          "text": [
            "Raj\n",
            "Arjun\n",
            "Priya\n",
            "joy\n",
            "Anu\n"
          ]
        }
      ]
    },
    {
      "cell_type": "code",
      "source": [
        "# Nested list\n",
        "mylist=[1,2,3,['a','b',[5,6]]]\n",
        "print(mylist)"
      ],
      "metadata": {
        "colab": {
          "base_uri": "https://localhost:8080/"
        },
        "id": "FvTltUoHXZTG",
        "outputId": "02312abe-5b8c-4b3a-d9bb-ecc8bf538dac"
      },
      "execution_count": 7,
      "outputs": [
        {
          "output_type": "stream",
          "name": "stdout",
          "text": [
            "[1, 2, 3, ['a', 'b', [5, 6]]]\n"
          ]
        }
      ]
    },
    {
      "cell_type": "code",
      "source": [
        "# append(): \n",
        "print(names)\n",
        "names.append(\"Ravina\")  ## appemnd means add to last\n",
        "print(names)"
      ],
      "metadata": {
        "colab": {
          "base_uri": "https://localhost:8080/"
        },
        "id": "4Re1ehtAXdI6",
        "outputId": "338cf3a6-f04a-4d95-d3e8-90e845dc2b31"
      },
      "execution_count": 8,
      "outputs": [
        {
          "output_type": "stream",
          "name": "stdout",
          "text": [
            "['Raj', 'Arjun', 'Priya', 'joy', 'Anu']\n",
            "['Raj', 'Arjun', 'Priya', 'joy', 'Anu', 'Ravina']\n"
          ]
        }
      ]
    },
    {
      "cell_type": "code",
      "source": [
        "print(names)\n",
        "names.clear()  ## clear ne empty honar\n",
        "print(names)"
      ],
      "metadata": {
        "colab": {
          "base_uri": "https://localhost:8080/"
        },
        "id": "mU2u-XuJXhG2",
        "outputId": "9c78c93d-b287-48c7-cf94-ada9ff087635"
      },
      "execution_count": 9,
      "outputs": [
        {
          "output_type": "stream",
          "name": "stdout",
          "text": [
            "['Raj', 'Arjun', 'Priya', 'joy', 'Anu', 'Ravina']\n",
            "[]\n"
          ]
        }
      ]
    },
    {
      "cell_type": "code",
      "source": [
        "names = ['Raj', 'Arjun', 'Priya','Kishor','Anu']\n",
        "Names1=names.copy()\n",
        "print(Names1)"
      ],
      "metadata": {
        "colab": {
          "base_uri": "https://localhost:8080/"
        },
        "id": "QV2W-ovMXjnC",
        "outputId": "be8ac886-158a-47ce-a62c-abacf5a0e495"
      },
      "execution_count": 10,
      "outputs": [
        {
          "output_type": "stream",
          "name": "stdout",
          "text": [
            "['Raj', 'Arjun', 'Priya', 'Kishor', 'Anu']\n"
          ]
        }
      ]
    },
    {
      "cell_type": "code",
      "source": [
        "names.append(\"Raj\")\n",
        "x=names.count('Raj')\n",
        "print(x)"
      ],
      "metadata": {
        "colab": {
          "base_uri": "https://localhost:8080/"
        },
        "id": "10El2pnzXq42",
        "outputId": "4ed6d2c7-dc66-4a27-bb44-9bdb77c52c63"
      },
      "execution_count": 18,
      "outputs": [
        {
          "output_type": "stream",
          "name": "stdout",
          "text": [
            "6\n"
          ]
        }
      ]
    },
    {
      "cell_type": "code",
      "source": [
        "cars = ['Ford', 'BMW', 'Volvo']\n",
        "names.extend(cars)\n",
        "print(names)"
      ],
      "metadata": {
        "colab": {
          "base_uri": "https://localhost:8080/"
        },
        "id": "4-XcbD_GXu-X",
        "outputId": "deabcfae-c0ce-4eb7-8550-7ff8eb9b70c0"
      },
      "execution_count": 12,
      "outputs": [
        {
          "output_type": "stream",
          "name": "stdout",
          "text": [
            "['Raj', 'Arjun', 'Priya', 'Kishor', 'Anu', 'Raj', 'Ford', 'BMW', 'Volvo']\n"
          ]
        }
      ]
    },
    {
      "cell_type": "code",
      "source": [
        "x=names.index('Anu')\n",
        "x"
      ],
      "metadata": {
        "colab": {
          "base_uri": "https://localhost:8080/"
        },
        "id": "bJqkamGjXxUn",
        "outputId": "df164419-0e83-4a84-af57-28b2f7f2d898"
      },
      "execution_count": 19,
      "outputs": [
        {
          "output_type": "execute_result",
          "data": {
            "text/plain": [
              "4"
            ]
          },
          "metadata": {},
          "execution_count": 19
        }
      ]
    },
    {
      "cell_type": "code",
      "source": [
        "names.insert(2,'Audi')\n",
        "print(names)"
      ],
      "metadata": {
        "colab": {
          "base_uri": "https://localhost:8080/"
        },
        "id": "3YbeqNfwXzcC",
        "outputId": "7fcc68a8-9387-45d3-c43d-506f3507a1aa"
      },
      "execution_count": 20,
      "outputs": [
        {
          "output_type": "stream",
          "name": "stdout",
          "text": [
            "['Raj', 'Arjun', 'Audi', 'Priya', 'Kishor', 'Anu', 'Raj', 'Ford', 'BMW', 'Volvo', 'Raj', 'Raj', 'Raj', 'Raj']\n"
          ]
        }
      ]
    },
    {
      "cell_type": "code",
      "source": [
        "new_list=list(('Audi',\"BMW\",'Ford'))\n",
        "print(new_list)"
      ],
      "metadata": {
        "colab": {
          "base_uri": "https://localhost:8080/"
        },
        "id": "szcyWd72X237",
        "outputId": "7cfd2df8-9c22-474a-b9dc-6bf9487bb736"
      },
      "execution_count": 21,
      "outputs": [
        {
          "output_type": "stream",
          "name": "stdout",
          "text": [
            "['Audi', 'BMW', 'Ford']\n"
          ]
        }
      ]
    },
    {
      "cell_type": "code",
      "source": [
        "names.pop(2)\n",
        "#print(names.pop(2))\n",
        "print(names)\n",
        "#names.pop(2)\n",
        "#print(names)\n",
        "print(len(names))"
      ],
      "metadata": {
        "colab": {
          "base_uri": "https://localhost:8080/"
        },
        "id": "7sSeX8O_X64s",
        "outputId": "2fa9f42e-a731-4834-d08f-f77ba0551ca3"
      },
      "execution_count": 22,
      "outputs": [
        {
          "output_type": "stream",
          "name": "stdout",
          "text": [
            "['Raj', 'Arjun', 'Priya', 'Kishor', 'Anu', 'Raj', 'Ford', 'BMW', 'Volvo', 'Raj', 'Raj', 'Raj', 'Raj']\n",
            "13\n"
          ]
        }
      ]
    },
    {
      "cell_type": "code",
      "source": [
        "names.remove('Raj')\n",
        "print(names)"
      ],
      "metadata": {
        "colab": {
          "base_uri": "https://localhost:8080/"
        },
        "id": "DTCv3dGTX99K",
        "outputId": "55965048-dda5-40f7-8533-06cd0b611d5f"
      },
      "execution_count": 23,
      "outputs": [
        {
          "output_type": "stream",
          "name": "stdout",
          "text": [
            "['Arjun', 'Priya', 'Kishor', 'Anu', 'Raj', 'Ford', 'BMW', 'Volvo', 'Raj', 'Raj', 'Raj', 'Raj']\n"
          ]
        }
      ]
    },
    {
      "cell_type": "code",
      "source": [
        "names.reverse()\n",
        "print(names)"
      ],
      "metadata": {
        "colab": {
          "base_uri": "https://localhost:8080/"
        },
        "id": "lNdlar-oYBlL",
        "outputId": "498f5d48-e23f-4b36-f348-c6d566068aa4"
      },
      "execution_count": 24,
      "outputs": [
        {
          "output_type": "stream",
          "name": "stdout",
          "text": [
            "['Raj', 'Raj', 'Raj', 'Raj', 'Volvo', 'BMW', 'Ford', 'Raj', 'Anu', 'Kishor', 'Priya', 'Arjun']\n"
          ]
        }
      ]
    },
    {
      "cell_type": "code",
      "source": [
        "names.sort()\n",
        "print(names)  ## sort means ascending order"
      ],
      "metadata": {
        "colab": {
          "base_uri": "https://localhost:8080/"
        },
        "id": "p1sRmDnaYFJx",
        "outputId": "9ec4dbb1-3711-4e54-8167-0eca99c1e364"
      },
      "execution_count": 25,
      "outputs": [
        {
          "output_type": "stream",
          "name": "stdout",
          "text": [
            "['Anu', 'Arjun', 'BMW', 'Ford', 'Kishor', 'Priya', 'Raj', 'Raj', 'Raj', 'Raj', 'Raj', 'Volvo']\n"
          ]
        }
      ]
    }
  ]
}