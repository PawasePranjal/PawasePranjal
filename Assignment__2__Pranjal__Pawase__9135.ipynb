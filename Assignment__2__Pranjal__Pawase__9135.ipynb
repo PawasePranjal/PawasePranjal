{
  "nbformat": 4,
  "nbformat_minor": 0,
  "metadata": {
    "colab": {
      "name": "Assignment _2 _Pranjal_ Pawase _9135.ipynb",
      "provenance": []
    },
    "kernelspec": {
      "name": "python3",
      "display_name": "Python 3"
    },
    "language_info": {
      "name": "python"
    }
  },
  "cells": [
    {
      "cell_type": "markdown",
      "source": [
        "Q1.Write a Python User Define Function to reverse a string\n",
        "\n",
        "Q1. Hint :If I Pass the Parameter >> \"python\" My output will be >> \"nohtyp\"\n"
      ],
      "metadata": {
        "id": "KtmE3Ekoouad"
      }
    },
    {
      "cell_type": "code",
      "source": [
        "##Solution Q1. \n",
        "def rev(Inp):\n",
        " ReverseInp=Inp[::-1] # Slicing\n",
        " print (\"The Reversed String is\",ReverseInp) # Print the reversed string\n",
        "\n",
        "Stri=input(\"Enter the String to be Reversed \") # Input From the User\n",
        "rev(Stri) #Called the function with user input as parameter"
      ],
      "metadata": {
        "colab": {
          "base_uri": "https://localhost:8080/"
        },
        "id": "XCRnO5D_oxRU",
        "outputId": "b561472f-b3a6-4198-9bbc-a74973e0c48d"
      },
      "execution_count": null,
      "outputs": [
        {
          "output_type": "stream",
          "name": "stdout",
          "text": [
            "Enter the String to be Reversed Pranjal\n",
            "The Reversed String is lajnarP\n"
          ]
        }
      ]
    },
    {
      "cell_type": "markdown",
      "source": [
        "Q2. Write a Python min_max function which will return Min, Max of 4 inputs from the user."
      ],
      "metadata": {
        "id": "hk1AAjd2o35F"
      }
    },
    {
      "cell_type": "code",
      "source": [
        "##Solution Q2. \n",
        "def min_max(A,B,C,D):\n",
        "  print(\"The Maxmimum value from the input values is: \", max(A,B,C,D))\n",
        "  print(\"The Minimum value from the input values is: \", min(A,B,C,D))\n",
        "  \n",
        "p, q, r, s = input(\"Enter four values to find minimum and maximum value separated by space: \").split()\n",
        "# Alternative  \n",
        "# p = input(\"Enter the first value: \")\n",
        "# q = input(\"Enter the second value: \")\n",
        "# r = input(\"Enter the third value: \")\n",
        "# s = input(\"Enter the fourth value: \")\n",
        "\n",
        "min_max(p,q,r,s)"
      ],
      "metadata": {
        "colab": {
          "base_uri": "https://localhost:8080/"
        },
        "id": "aYWw6w1Lo60k",
        "outputId": "64bb2898-6948-4677-ccba-07ebba33025a"
      },
      "execution_count": null,
      "outputs": [
        {
          "output_type": "stream",
          "name": "stdout",
          "text": [
            "Enter four values to find minimum and maximum value separated by space: 1 2 3 4\n",
            "The Maxmimum value from the input values is:  4\n",
            "The Minimum value from the input values is:  1\n"
          ]
        }
      ]
    },
    {
      "cell_type": "markdown",
      "source": [
        "Q3. Write a Python function to sum 4 inputs from the user."
      ],
      "metadata": {
        "id": "vgTj6Rx3pDgx"
      }
    },
    {
      "cell_type": "code",
      "source": [
        "##Solution Q3. \n",
        "def Sum4(A,B,C,D):\n",
        "  sum = A+B+C+D\n",
        "  print(\"The Sum of the input vlaues is: \", sum)\n",
        "\n",
        "p, q, r, s = list(map(float, input(\"Enter four values to find sum of them separated by space: \").split()))\n",
        "# Alternative  \n",
        "# p = float(input(\"Enter the first value: \"))\n",
        "# q = float(input(\"Enter the second value: \"))\n",
        "# r = float(input(\"Enter the third value: \"))\n",
        "# s = float(input(\"Enter the fourth value: \"))\n",
        "\n",
        "Sum4 (p,q,r,s)"
      ],
      "metadata": {
        "colab": {
          "base_uri": "https://localhost:8080/"
        },
        "id": "PA-xmTGopGMW",
        "outputId": "d61bea6f-61ad-4721-cf7d-e85a7259bd96"
      },
      "execution_count": null,
      "outputs": [
        {
          "output_type": "stream",
          "name": "stdout",
          "text": [
            "Enter four values to find sum of them separated by space: 2 3 4 7\n",
            "The Sum of the input vlaues is:  16.0\n"
          ]
        }
      ]
    },
    {
      "cell_type": "markdown",
      "source": [
        "Q4. Find out the Command which will return you number of local variables from the user define function."
      ],
      "metadata": {
        "id": "JqxgWH_0pVxf"
      }
    },
    {
      "cell_type": "code",
      "source": [
        "##Solution Q4. \n",
        "# Suppose here our user defined function is Sum4\n",
        "# Then to find the number of local variables we have to use the following syntax\n",
        "## User_Defined_Function_Name.__code__.co_nlocals\n",
        "print(\"The Number of Local Variables in the given User Defined Function is: \" ,Sum4.__code__.co_nlocals)"
      ],
      "metadata": {
        "colab": {
          "base_uri": "https://localhost:8080/"
        },
        "id": "bl8e0oeapYoB",
        "outputId": "8be0d418-ba38-4350-b0df-678236ab23a9"
      },
      "execution_count": null,
      "outputs": [
        {
          "output_type": "stream",
          "name": "stdout",
          "text": [
            "The Number of Local Variables in the given User Defined Function is:  5\n"
          ]
        }
      ]
    },
    {
      "cell_type": "markdown",
      "source": [
        "Q5.Write Python Function to get even number from the list. List len must be equal to 8."
      ],
      "metadata": {
        "id": "vy-krCBwpi6x"
      }
    },
    {
      "cell_type": "code",
      "source": [
        "##Solution Q5. \n",
        "list1 = list(map(float, input(\"Enter a list of 8 elements separated by space: \").split()))\n",
        "L = len(list1)\n",
        "\n",
        "if (L==8):\n",
        "    print(\"The Even Numbers are : \")\n",
        "    for num in list1:\n",
        "  \n",
        "        if (num % 2 == 0):\n",
        "            print(num, end=\" \")\n",
        "else: \n",
        "    print(\"There are less than 8 elements in the list\")"
      ],
      "metadata": {
        "colab": {
          "base_uri": "https://localhost:8080/"
        },
        "id": "75VxyGx1pjkU",
        "outputId": "1cb6da58-51d2-4ee8-c37c-9a9b1a504314"
      },
      "execution_count": null,
      "outputs": [
        {
          "output_type": "stream",
          "name": "stdout",
          "text": [
            "Enter a list of 8 elements separated by space: 2 3 1 4 5 8 7 6\n",
            "The Even Numbers are : \n",
            "2.0 4.0 8.0 6.0 "
          ]
        }
      ]
    }
  ]
}